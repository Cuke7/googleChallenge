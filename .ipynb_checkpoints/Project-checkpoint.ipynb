{
 "cells": [
  {
   "cell_type": "markdown",
   "source": [
    "# Project"
   ],
   "metadata": {}
  },
  {
   "cell_type": "code",
   "execution_count": 4,
   "source": [
    "### Import of files needed for the project\r\n",
    "\r\n",
    "import parser  # file containing the function to parse the data files and create a Data object\r\n",
    "import problem as pb # file containing the data structures to store the data of the problem and a solution to a problem (class Data, BalanceTriple, Solution)\r\n",
    "import checker # file containing the functions to check if a given Solution object is feasible according to a Data object and if its cost is correclty computed\r\n"
   ],
   "outputs": [],
   "metadata": {}
  },
  {
   "cell_type": "markdown",
   "source": [
    "### Data\n",
    "\n",
    "On rappelle les structures qui sont remplies par les méthodes de lecture de données.\n",
    "\n",
    "**Data structure for data used to compute the balance cost**\n",
    "```\n",
    "class BalanceTriple(NamedTuple):\n",
    "    resource1: int  # first resource\n",
    "    resource2: int  # second resource\n",
    "    target: int  # target aimed for the resource consumption\n",
    "    weight: int  # weight of the balance triple\n",
    "```\n",
    "\n",
    "**data struture for an instance of Google challenge problem**\n",
    "```\n",
    "class Data(NamedTuple):\n",
    "      nbResources: int  # number of resources |R|\n",
    "    transientStatus: NDArray[(Any), int]  # transientStatus[r] is 1 if resource r is transient, 0 otherwise\n",
    "    weightLoadCost: NDArray[(Any), int]  # weightLoadCost[r] indicating the weight of load cost for each resource\n",
    "\n",
    "    nbMachines: int  # number of machines |M|\n",
    "    neighborhoods: NDArray[(Any), int]  # neighborhoods[m] is equal to the neighborhood to which machine m belongs\n",
    "    nbNeighborhoods: int  # total number of neighborhoods\n",
    "    locations: NDArray[(Any), int]  # locations[m] is equal to the location of machine m\n",
    "    nbLocations: int  # total number of locations\n",
    "    softResCapacities: NDArray[\n",
    "        (Any, Any), int]  # softResCapacities[m,r] is equal to SC(m,r)\n",
    "    hardResCapacities: NDArray[\n",
    "        (Any, Any), int]  # hardResCapacities[m,r] is equal to U(m,r)\n",
    "    machineMoveCosts: NDArray[(Any, Any), int]  # machineMoveCosts[m1,m2] is equal to MMC(m1,m2)\n",
    "\n",
    "    nbServices: int  # number of services |S|\n",
    "    spreadMin: NDArray[(Any), int]  # spreadMin[s] is equal to spreadMin(s) (i.e., the minimum number of distinct locations where at least one process of service s should run)\n",
    "    dependencies: NDArray[(Any)]  # dependencies[s] is the list of services on which service s depends\n",
    "\n",
    "    nbProcess: int  # number of processes |P|\n",
    "    servicesProcess: NDArray[(Any), int]  # servicesProcess[p] is the service to which process p belongs\n",
    "    processReq: NDArray[(Any, Any), int]  # processResReq[p,r] is equal to R(p,r)\n",
    "    processMoveCost: NDArray[(Any), int]  # processMoveCost[p] is equal to PMC(p)\n",
    "\n",
    "    nbBalanceTriples: int  # number of balance triples |B|\n",
    "    balanceTriples: NDArray[(Any), BalanceTriple]  # balanceTriples[b] is the triple b (object of type BalanceTriple)\n",
    "    processMoveWeight: int  # weight for the process move cost\n",
    "    serviceMoveWeight: int  # weight for the service move cost\n",
    "    machineMoveWeight: int  # weight for the machine move cost\n",
    "\n",
    "    initialAssignment: NDArray[(Any), int]  # initialAssignment[p] is equal to M0(p)\n",
    "end\n",
    "```\n",
    "\n",
    "**data structure for storing the solution**\n",
    "```\n",
    "class Solution(NamedTuple):\n",
    "    assignment: NDArray[(Any), int]  # assignment[p] is the machine to which the process p is assigned (i.e., M(p)).\n",
    "    cost: int  # value of the objective function\n",
    "```\n",
    "\n"
   ],
   "metadata": {}
  },
  {
   "cell_type": "markdown",
   "source": [
    "### Work to do\n",
    "\n",
    "You should implement a solution method for the machine assignment problem. It can be an algorithmic solution or can make use of mathematical programming solvers. \n",
    "One should access your solution method through the following method you should implement:\n",
    "\n",
    "```\n",
    "# Build a solution to the machine assingment problem for the given Data object\n",
    "# data : object containing the problem data\n",
    "# maxTime : maximum time limit (in seconds) -> you should try to take it into account into your method\n",
    "# verbose : if it is set to False, there should not be anything print into the console\n",
    "\n",
    "def solve(data: problem.Data, maxTime: int, verbose: bool) -> problem.Solution:\n",
    "\n",
    "```\n",
    "\n",
    "You are free to implement your code in the next cell or to do your implementation in the Python file `solver.py` (that can be dependent of other Python files if needed)"
   ],
   "metadata": {}
  },
  {
   "cell_type": "code",
   "execution_count": 7,
   "source": [
    "def solve(data: pb.Data, maxTime: int, verbose: bool) -> pb.Solution:\r\n",
    "    # Fill the method\r\n",
    "    return pb.Solution(data.initialAssignment,0)\r\n",
    "    \r\n",
    "    \r\n",
    "    "
   ],
   "outputs": [],
   "metadata": {}
  },
  {
   "cell_type": "markdown",
   "source": [
    "### Test\n",
    "The two cells below allow you to execute your code. It reads the data, calls the method solve you have implemented, retrieves the solution, and checks that the constraints are respected and the cost correctly computed. \n",
    "\n",
    "If you have implemented your solution method in the Python file `solver.py`, you can remove the cell above and import below the Python file in the cell below using the method `import solver`. Then you need to replace the line ̀`solution = solve(data, maxTime, verbose)` by  `solution = solver.solve(data, maxTime, verbose)`\n",
    "\n",
    "\n",
    "You can change the name to test on another dataset. "
   ],
   "metadata": {}
  },
  {
   "cell_type": "code",
   "execution_count": 8,
   "source": [
    "def mainFunction(instanceFilename: str, assignmentFilename: str, verbose: bool, maxTime: int):\r\n",
    "    print(\"Received instance files \", instanceFilename, \" and \", assignmentFilename)\r\n",
    "\r\n",
    "    # reading the data\r\n",
    "    data = parser.parseFiles(instanceFilename, assignmentFilename)\r\n",
    "\r\n",
    "    if verbose:\r\n",
    "        problem.printData(data)\r\n",
    "\r\n",
    "    # solve the problem\r\n",
    "    solution = solve(data, maxTime, verbose)\r\n",
    "\r\n",
    "    if verbose:  # print the solution\r\n",
    "        print(\"Solution of cost \", solution.cost)\r\n",
    "        for i in range(data.nbProcess):\r\n",
    "            print(solution.assignment[i], end=\" \")  # here the solution is written with our convention 1..n\r\n",
    "        print()\r\n",
    "\r\n",
    "    # test if the solution is feasible and compute its cost\r\n",
    "    checker.check(data, solution, True)  # check if the solution is feasible"
   ],
   "outputs": [],
   "metadata": {}
  },
  {
   "cell_type": "code",
   "execution_count": 9,
   "source": [
    "# enter your instance name here \r\n",
    "instanceFilename = \"data/dataA/model_a1_1.txt\"\r\n",
    "assignmentFilename = \"data/dataA/assignment_a1_1.txt\"\r\n",
    "\r\n",
    "# set to true if you want to print intermediate logs\r\n",
    "verbose = False\r\n",
    "\r\n",
    "# default time allowed\r\n",
    "maxTime = 300 \r\n",
    "        \r\n",
    "# reads the data, calls the method solve you have implemented, retrieves the solution, and checks that the constraints are respected and the cost correctly computed\r\n",
    "mainFunction(instanceFilename, assignmentFilename, verbose, maxTime)"
   ],
   "outputs": [
    {
     "output_type": "stream",
     "name": "stdout",
     "text": [
      "Received instance files  data/dataA/model_a1_1.txt  and  data/dataA/assignment_a1_1.txt\n"
     ]
    },
    {
     "output_type": "error",
     "ename": "AttributeError",
     "evalue": "module 'parser' has no attribute 'parseFiles'",
     "traceback": [
      "\u001b[1;31m---------------------------------------------------------------------------\u001b[0m",
      "\u001b[1;31mAttributeError\u001b[0m                            Traceback (most recent call last)",
      "\u001b[1;32m~\\AppData\\Local\\Temp/ipykernel_14976/3042147197.py\u001b[0m in \u001b[0;36m<module>\u001b[1;34m\u001b[0m\n\u001b[0;32m     10\u001b[0m \u001b[1;33m\u001b[0m\u001b[0m\n\u001b[0;32m     11\u001b[0m \u001b[1;31m# reads the data, calls the method solve you have implemented, retrieves the solution, and checks that the constraints are respected and the cost correctly computed\u001b[0m\u001b[1;33m\u001b[0m\u001b[1;33m\u001b[0m\u001b[0m\n\u001b[1;32m---> 12\u001b[1;33m \u001b[0mmainFunction\u001b[0m\u001b[1;33m(\u001b[0m\u001b[0minstanceFilename\u001b[0m\u001b[1;33m,\u001b[0m \u001b[0massignmentFilename\u001b[0m\u001b[1;33m,\u001b[0m \u001b[0mverbose\u001b[0m\u001b[1;33m,\u001b[0m \u001b[0mmaxTime\u001b[0m\u001b[1;33m)\u001b[0m\u001b[1;33m\u001b[0m\u001b[1;33m\u001b[0m\u001b[0m\n\u001b[0m",
      "\u001b[1;32m~\\AppData\\Local\\Temp/ipykernel_14976/3882784306.py\u001b[0m in \u001b[0;36mmainFunction\u001b[1;34m(instanceFilename, assignmentFilename, verbose, maxTime)\u001b[0m\n\u001b[0;32m      3\u001b[0m \u001b[1;33m\u001b[0m\u001b[0m\n\u001b[0;32m      4\u001b[0m     \u001b[1;31m# reading the data\u001b[0m\u001b[1;33m\u001b[0m\u001b[1;33m\u001b[0m\u001b[0m\n\u001b[1;32m----> 5\u001b[1;33m     \u001b[0mdata\u001b[0m \u001b[1;33m=\u001b[0m \u001b[0mparser\u001b[0m\u001b[1;33m.\u001b[0m\u001b[0mparseFiles\u001b[0m\u001b[1;33m(\u001b[0m\u001b[0minstanceFilename\u001b[0m\u001b[1;33m,\u001b[0m \u001b[0massignmentFilename\u001b[0m\u001b[1;33m)\u001b[0m\u001b[1;33m\u001b[0m\u001b[1;33m\u001b[0m\u001b[0m\n\u001b[0m\u001b[0;32m      6\u001b[0m \u001b[1;33m\u001b[0m\u001b[0m\n\u001b[0;32m      7\u001b[0m     \u001b[1;32mif\u001b[0m \u001b[0mverbose\u001b[0m\u001b[1;33m:\u001b[0m\u001b[1;33m\u001b[0m\u001b[1;33m\u001b[0m\u001b[0m\n",
      "\u001b[1;31mAttributeError\u001b[0m: module 'parser' has no attribute 'parseFiles'"
     ]
    }
   ],
   "metadata": {}
  }
 ],
 "metadata": {
  "kernelspec": {
   "name": "python3",
   "display_name": "Python 3.9.7 64-bit"
  },
  "language_info": {
   "codemirror_mode": {
    "name": "ipython",
    "version": 3
   },
   "file_extension": ".py",
   "mimetype": "text/x-python",
   "name": "python",
   "nbconvert_exporter": "python",
   "pygments_lexer": "ipython3",
   "version": "3.9.7"
  },
  "interpreter": {
   "hash": "2446729867b560988310c3899dceb726b6b9116e08c247c052b80ea185611cb0"
  }
 },
 "nbformat": 4,
 "nbformat_minor": 5
}